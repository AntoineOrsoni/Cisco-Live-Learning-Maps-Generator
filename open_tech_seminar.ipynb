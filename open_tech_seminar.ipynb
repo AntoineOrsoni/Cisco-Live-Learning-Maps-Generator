{
 "cells": [
  {
   "cell_type": "code",
   "execution_count": 1,
   "metadata": {},
   "outputs": [],
   "source": [
    "session_type = 'Technical_seminar'\n",
    "#session_type = 'BRK'"
   ]
  },
  {
   "cell_type": "code",
   "execution_count": 2,
   "metadata": {},
   "outputs": [],
   "source": [
    "import json\n",
    "\n",
    "with open('credentials.json') as file:\n",
    "    credentials = json.load(file)"
   ]
  },
  {
   "cell_type": "code",
   "execution_count": 3,
   "metadata": {},
   "outputs": [],
   "source": [
    "import requests\n",
    "from datetime import datetime, timedelta\n",
    "\n",
    "def get_sessions(session_type, req_from = 0):\n",
    "    '''\n",
    "    Returns all sessions based on sessiontype.\n",
    "    '''\n",
    "\n",
    "    url = \"https://events.rainfocus.com/api/search\"\n",
    "\n",
    "    payload =   {\n",
    "                    'search.sessiontype': session_type,\n",
    "                    'type': 'session',\n",
    "                    'catalogDisplay': 'list',\n",
    "                    'browserTimezone': 'Europe%2FParis',\n",
    "                    'from': req_from\n",
    "                }\n",
    "\n",
    "    headers = {\n",
    "        'authority': 'events.rainfocus.com',\n",
    "        'accept': '*/*',\n",
    "        'accept-language': 'en-US,en;q=0.9,fr-FR;q=0.8,fr;q=0.7',\n",
    "        'content-type': 'application/x-www-form-urlencoded; charset=UTF-8',\n",
    "        'origin': 'https://www.ciscolive.com',\n",
    "        'referer': 'https://www.ciscolive.com/',\n",
    "        'rfapiprofileid': credentials['rfapiprofileid'],\n",
    "        'rfauthtoken': credentials['rfauthtoken'],\n",
    "        'rfwidgetid': credentials['rfwidgetid'],\n",
    "    }\n",
    "\n",
    "    response = requests.request(\"POST\", url, headers=headers, data=payload)\n",
    "\n",
    "    return response.json()\n",
    "\n",
    "class Session():\n",
    "\n",
    "    def __init__(self, session_json):\n",
    "        self.type = session_json['type']\n",
    "        try:\n",
    "            self.start = datetime.strptime(session_json['times'][0]['utcStartTime'], '%Y/%m/%d %H:%M:%S') + timedelta(hours=1)\n",
    "            self.end = datetime.strptime(session_json['times'][0]['utcEndTime'], '%Y/%m/%d %H:%M:%S') + timedelta(hours=1)\n",
    "        except KeyError:\n",
    "            self.start = 'Null'\n",
    "            self.end = 'Null'\n",
    "        self.name = session_json['title']\n",
    "        self.id = session_json['code']\n",
    "        match int(self.id.split('-')[1][0]):\n",
    "            case 1: self.level = 'Introductory'\n",
    "            case 2: self.level = 'Intermediate'\n",
    "            case 3: self.level = 'Advanced'\n",
    "            case 4: self.level = 'General'\n",
    "        self.capacity = int(session_json['times'][0]['capacity'])\n",
    "        self.seats_remaining = int(session_json['times'][0]['seatsRemaining'])\n",
    "        self.waitlist_remaining = int(session_json['times'][0]['waitlistRemaining'])\n",
    "        \n",
    "    def __str__(self):\n",
    "        return self.name"
   ]
  },
  {
   "cell_type": "code",
   "execution_count": 4,
   "metadata": {},
   "outputs": [],
   "source": [
    "sessions_json = get_sessions(session_type)\n",
    "\n",
    "req_from = int(sessions_json['sectionList'][0]['from'])\n",
    "num_items = int(sessions_json['sectionList'][0]['numItems'])\n",
    "total = int(sessions_json['sectionList'][0]['total'])\n",
    "size = int(sessions_json['sectionList'][0]['size'])\n",
    "\n",
    "while req_from + num_items < total:\n",
    "    req_from += size\n",
    "    sessions_json_temp = get_sessions(session_type, req_from=req_from)\n",
    "\n",
    "    for session in sessions_json_temp['items']:\n",
    "        sessions_json['sectionList'][0]['items'].append(session)"
   ]
  },
  {
   "cell_type": "code",
   "execution_count": 5,
   "metadata": {},
   "outputs": [],
   "source": [
    "sessions = []\n",
    "\n",
    "for session in sessions_json['sectionList'][0]['items']:\n",
    "    sessions.append(Session(session))"
   ]
  },
  {
   "cell_type": "code",
   "execution_count": 6,
   "metadata": {},
   "outputs": [],
   "source": [
    "import pandas as pd"
   ]
  },
  {
   "cell_type": "code",
   "execution_count": 7,
   "metadata": {},
   "outputs": [],
   "source": [
    "# df = pd.DataFrame(columns=['Session Name', 'Total Capacity', 'Empty Seats', '% Available'])\n",
    "list_df = []\n",
    "\n",
    "for session in sessions:\n",
    "    to_append = {\n",
    "        'Session Name': [session.id + ' - ' + session.name],\n",
    "        'Total Capacity': session.capacity,\n",
    "        'Empty Seats': session.seats_remaining, \n",
    "        '% Available': [int((session.seats_remaining / session.capacity) * 100)]\n",
    "    }\n",
    "    \n",
    "    list_df.append(pd.DataFrame(data=to_append))\n",
    "\n",
    "df = pd.concat(list_df, names=['Session Name', 'Total Capacity', 'Empty Seats', '% Available'])"
   ]
  },
  {
   "cell_type": "code",
   "execution_count": 8,
   "metadata": {},
   "outputs": [],
   "source": [
    "df.to_excel('open_' + session_type + '.xlsx', index=False)"
   ]
  }
 ],
 "metadata": {
  "kernelspec": {
   "display_name": "venv",
   "language": "python",
   "name": "python3"
  },
  "language_info": {
   "codemirror_mode": {
    "name": "ipython",
    "version": 3
   },
   "file_extension": ".py",
   "mimetype": "text/x-python",
   "name": "python",
   "nbconvert_exporter": "python",
   "pygments_lexer": "ipython3",
   "version": "3.10.4"
  },
  "orig_nbformat": 4,
  "vscode": {
   "interpreter": {
    "hash": "0e78ec2475606aad55be8b2b713e3747064a8b57ecd7bfd05bf2efc2b09f0c25"
   }
  }
 },
 "nbformat": 4,
 "nbformat_minor": 2
}
