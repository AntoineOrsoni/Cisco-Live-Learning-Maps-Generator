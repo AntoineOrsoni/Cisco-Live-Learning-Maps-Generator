{
    "cells": [
        {
            "cell_type": "code",
            "execution_count": 1,
            "metadata": {},
            "outputs": [],
            "source": [
                "from datetime import datetime, timedelta\n",
                "from calendar_view.core import data\n",
                "from calendar_view.config import style\n",
                "from calendar_view.core.config import CalendarConfig\n",
                "from calendar_view.calendar import Calendar\n",
                "from calendar_view.core.event import Event\n",
                "from calendar_view.core.event import EventStyles\n",
                "from calendar_view.core.event import EventStyle\n",
                "import requests\n",
                "import os"
            ]
        },
        {
            "cell_type": "code",
            "execution_count": 2,
            "metadata": {},
            "outputs": [],
            "source": [
                "def get_learning_maps_json():\n",
                "\n",
                "    '''\n",
                "    Uses the Rainfocus API to return the dictionary of all learning_maps in JSON format.\n",
                "    '''\n",
                "    \n",
                "    url = \"https://events.rainfocus.com/api/search\"\n",
                "\n",
                "    payload={'type': 'session',\n",
                "    'catalogDisplay': 'list'}\n",
                "\n",
                "    headers = {\n",
                "    'rfapiprofileid': 'lEHxCfLvNr8N3euNXUyFcngGbQoLXL1U',\n",
                "    'referer': 'https://www.ciscolive.com/'\n",
                "    }\n",
                "\n",
                "    response = requests.request(\"POST\", url, headers=headers, data=payload)\n",
                "\n",
                "    return list(filter(lambda d: d.get('id') == 'learningmap', response.json()['attributes']))[0]"
            ]
        },
        {
            "cell_type": "code",
            "execution_count": 3,
            "metadata": {},
            "outputs": [],
            "source": [
                "def get_learning_maps():\n",
                "\n",
                "    '''\n",
                "    Uses the get_learning_maps_json() API and return a dictionary of all learning map folders. \n",
                "    Each folder contains a list of (learning_map_name, learning_map_id) tuples.\n",
                "    '''\n",
                "    \n",
                "    learning_maps_json = get_learning_maps_json()\n",
                "    learning_maps = {}\n",
                "\n",
                "    for value in learning_maps_json['values']:\n",
                "\n",
                "        folder_name = value['id'].rstrip().replace('\\u200e', '')\n",
                "        learning_maps[folder_name] = []\n",
                "\n",
                "        for child in value['child']['values']:\n",
                "            learning_maps[folder_name].append((child['name'].replace('\\u200b', '').replace('/', ' '), child['id']))\n",
                "\n",
                "\n",
                "\n",
                "    return learning_maps"
            ]
        },
        {
            "cell_type": "code",
            "execution_count": 4,
            "metadata": {},
            "outputs": [],
            "source": [
                "learning_maps = get_learning_maps()"
            ]
        },
        {
            "cell_type": "code",
            "execution_count": 6,
            "metadata": {},
            "outputs": [],
            "source": [
                "def get_sessions(learning_map: str):\n",
                "    '''\n",
                "    Take a learning map and returns the associated sessions in a json object.\n",
                "    '''\n",
                "\n",
                "    url = \"https://events.rainfocus.com/api/search\"\n",
                "\n",
                "    payload =   {'search.learningmap': learning_map,\n",
                "                'type': 'session'}\n",
                "\n",
                "    headers = {\n",
                "    'rfapiprofileid': '0wnUkT1BBZK3JR2t3yc5huPwNQCS8C3n',\n",
                "    'referer': 'https://www.ciscolive.com/'\n",
                "    }\n",
                "\n",
                "    response = requests.request(\"POST\", url, headers=headers, data=payload)\n",
                "\n",
                "    return response.json()"
            ]
        },
        {
            "cell_type": "code",
            "execution_count": 7,
            "metadata": {},
            "outputs": [],
            "source": [
                "class Session():\n",
                "\n",
                "    def __init__(self, session_json):\n",
                "        self.type = session_json['type']\n",
                "        try:\n",
                "            self.start = datetime.strptime(session_json['times'][0]['utcStartTime'], '%Y/%m/%d %H:%M:%S') + timedelta(hours=1)\n",
                "            self.end = datetime.strptime(session_json['times'][0]['utcEndTime'], '%Y/%m/%d %H:%M:%S') + timedelta(hours=1)\n",
                "        except KeyError:\n",
                "            self.start = 'Null'\n",
                "            self.end = 'Null'\n",
                "        self.name = session_json['title']\n",
                "        self.id = session_json['code']\n",
                "        match int(self.id.split('-')[1][0]):\n",
                "            case 1: self.level = 'Introductory'\n",
                "            case 2: self.level = 'Intermediate'\n",
                "            case 3: self.level = 'Advanced'\n",
                "            case 4: self.level = 'General'\n",
                "        \n",
                "    def __str__(self):\n",
                "        return self.name"
            ]
        },
        {
            "cell_type": "code",
            "execution_count": 8,
            "metadata": {},
            "outputs": [
                {
                    "name": "stdout",
                    "output_type": "stream",
                    "text": [
                        "LEARNING_MAP_NAME = 'Full-Stack Observability', LEARNING_MAP = '1615903688656001adnz'\n",
                        "LEARNING_MAP_NAME = 'Internet and Cloud Intelligence', LEARNING_MAP = '1616599177462001at4I'\n",
                        "LEARNING_MAP_NAME = 'Performance Management for Enterprise Apps', LEARNING_MAP = '1615903688656002aj5K'\n",
                        "LEARNING_MAP_NAME = 'Cloud Automation', LEARNING_MAP = '1614364836859001PXpU'\n",
                        "LEARNING_MAP_NAME = 'Cloud Native Technologies', LEARNING_MAP = '1614364836859002PO0m'\n",
                        "LEARNING_MAP_NAME = 'Cloud Security', LEARNING_MAP = '1636127907316001zyqr'\n"
                    ]
                },
                {
                    "ename": "KeyboardInterrupt",
                    "evalue": "",
                    "output_type": "error",
                    "traceback": [
                        "\u001b[0;31m---------------------------------------------------------------------------\u001b[0m",
                        "\u001b[0;31mAttributeError\u001b[0m                            Traceback (most recent call last)",
                        "File \u001b[0;32m~/Documents/Programmability/cisco_live_learning_maps/venv/lib/python3.10/site-packages/PIL/ImageFile.py:503\u001b[0m, in \u001b[0;36m_save\u001b[0;34m(im, fp, tile, bufsize)\u001b[0m\n\u001b[1;32m    502\u001b[0m \u001b[39mtry\u001b[39;00m:\n\u001b[0;32m--> 503\u001b[0m     fh \u001b[39m=\u001b[39m fp\u001b[39m.\u001b[39;49mfileno()\n\u001b[1;32m    504\u001b[0m     fp\u001b[39m.\u001b[39mflush()\n",
                        "\u001b[0;31mAttributeError\u001b[0m: '_idat' object has no attribute 'fileno'",
                        "\nDuring handling of the above exception, another exception occurred:\n",
                        "\u001b[0;31mKeyboardInterrupt\u001b[0m                         Traceback (most recent call last)",
                        "Cell \u001b[0;32mIn[8], line 61\u001b[0m\n\u001b[1;32m     59\u001b[0m calendar \u001b[39m=\u001b[39m Calendar\u001b[39m.\u001b[39mbuild(config)\n\u001b[1;32m     60\u001b[0m calendar\u001b[39m.\u001b[39madd_events(events)\n\u001b[0;32m---> 61\u001b[0m calendar\u001b[39m.\u001b[39;49msave(FOLDER_PATH \u001b[39m+\u001b[39;49m \u001b[39m'\u001b[39;49m\u001b[39m/\u001b[39;49m\u001b[39m'\u001b[39;49m \u001b[39m+\u001b[39;49m LEARNING_MAP_NAME \u001b[39m+\u001b[39;49m \u001b[39m\"\u001b[39;49m\u001b[39m.png\u001b[39;49m\u001b[39m\"\u001b[39;49m)\n",
                        "File \u001b[0;32m~/Documents/Programmability/cisco_live_learning_maps/venv/lib/python3.10/site-packages/calendar_view/calendar.py:54\u001b[0m, in \u001b[0;36mCalendar.save\u001b[0;34m(self, filename)\u001b[0m\n\u001b[1;32m     52\u001b[0m \u001b[39mself\u001b[39m\u001b[39m.\u001b[39mevents\u001b[39m.\u001b[39mgroup_cascade_events()\n\u001b[1;32m     53\u001b[0m \u001b[39mself\u001b[39m\u001b[39m.\u001b[39m_build_image()\n\u001b[0;32m---> 54\u001b[0m \u001b[39mself\u001b[39;49m\u001b[39m.\u001b[39;49mfull_image\u001b[39m.\u001b[39;49msave(filename, \u001b[39m\"\u001b[39;49m\u001b[39mPNG\u001b[39;49m\u001b[39m\"\u001b[39;49m)\n",
                        "File \u001b[0;32m~/Documents/Programmability/cisco_live_learning_maps/venv/lib/python3.10/site-packages/PIL/Image.py:2353\u001b[0m, in \u001b[0;36mImage.save\u001b[0;34m(self, fp, format, **params)\u001b[0m\n\u001b[1;32m   2350\u001b[0m         fp \u001b[39m=\u001b[39m builtins\u001b[39m.\u001b[39mopen(filename, \u001b[39m\"\u001b[39m\u001b[39mw+b\u001b[39m\u001b[39m\"\u001b[39m)\n\u001b[1;32m   2352\u001b[0m \u001b[39mtry\u001b[39;00m:\n\u001b[0;32m-> 2353\u001b[0m     save_handler(\u001b[39mself\u001b[39;49m, fp, filename)\n\u001b[1;32m   2354\u001b[0m \u001b[39mexcept\u001b[39;00m \u001b[39mException\u001b[39;00m:\n\u001b[1;32m   2355\u001b[0m     \u001b[39mif\u001b[39;00m open_fp:\n",
                        "File \u001b[0;32m~/Documents/Programmability/cisco_live_learning_maps/venv/lib/python3.10/site-packages/PIL/PngImagePlugin.py:1397\u001b[0m, in \u001b[0;36m_save\u001b[0;34m(im, fp, filename, chunk, save_all)\u001b[0m\n\u001b[1;32m   1395\u001b[0m     _write_multiple_frames(im, fp, chunk, rawmode, default_image, append_images)\n\u001b[1;32m   1396\u001b[0m \u001b[39melse\u001b[39;00m:\n\u001b[0;32m-> 1397\u001b[0m     ImageFile\u001b[39m.\u001b[39;49m_save(im, _idat(fp, chunk), [(\u001b[39m\"\u001b[39;49m\u001b[39mzip\u001b[39;49m\u001b[39m\"\u001b[39;49m, (\u001b[39m0\u001b[39;49m, \u001b[39m0\u001b[39;49m) \u001b[39m+\u001b[39;49m im\u001b[39m.\u001b[39;49msize, \u001b[39m0\u001b[39;49m, rawmode)])\n\u001b[1;32m   1399\u001b[0m \u001b[39mif\u001b[39;00m info:\n\u001b[1;32m   1400\u001b[0m     \u001b[39mfor\u001b[39;00m info_chunk \u001b[39min\u001b[39;00m info\u001b[39m.\u001b[39mchunks:\n",
                        "File \u001b[0;32m~/Documents/Programmability/cisco_live_learning_maps/venv/lib/python3.10/site-packages/PIL/ImageFile.py:507\u001b[0m, in \u001b[0;36m_save\u001b[0;34m(im, fp, tile, bufsize)\u001b[0m\n\u001b[1;32m    505\u001b[0m     _encode_tile(im, fp, tile, bufsize, fh)\n\u001b[1;32m    506\u001b[0m \u001b[39mexcept\u001b[39;00m (\u001b[39mAttributeError\u001b[39;00m, io\u001b[39m.\u001b[39mUnsupportedOperation) \u001b[39mas\u001b[39;00m exc:\n\u001b[0;32m--> 507\u001b[0m     _encode_tile(im, fp, tile, bufsize, \u001b[39mNone\u001b[39;49;00m, exc)\n\u001b[1;32m    508\u001b[0m \u001b[39mif\u001b[39;00m \u001b[39mhasattr\u001b[39m(fp, \u001b[39m\"\u001b[39m\u001b[39mflush\u001b[39m\u001b[39m\"\u001b[39m):\n\u001b[1;32m    509\u001b[0m     fp\u001b[39m.\u001b[39mflush()\n",
                        "File \u001b[0;32m~/Documents/Programmability/cisco_live_learning_maps/venv/lib/python3.10/site-packages/PIL/ImageFile.py:526\u001b[0m, in \u001b[0;36m_encode_tile\u001b[0;34m(im, fp, tile, bufsize, fh, exc)\u001b[0m\n\u001b[1;32m    523\u001b[0m \u001b[39mif\u001b[39;00m exc:\n\u001b[1;32m    524\u001b[0m     \u001b[39m# compress to Python file-compatible object\u001b[39;00m\n\u001b[1;32m    525\u001b[0m     \u001b[39mwhile\u001b[39;00m \u001b[39mTrue\u001b[39;00m:\n\u001b[0;32m--> 526\u001b[0m         l, s, d \u001b[39m=\u001b[39m encoder\u001b[39m.\u001b[39;49mencode(bufsize)\n\u001b[1;32m    527\u001b[0m         fp\u001b[39m.\u001b[39mwrite(d)\n\u001b[1;32m    528\u001b[0m         \u001b[39mif\u001b[39;00m s:\n",
                        "\u001b[0;31mKeyboardInterrupt\u001b[0m: "
                    ]
                }
            ],
            "source": [
                "for FOLDER, COUPLES in learning_maps.items():\n",
                "\n",
                "    FOLDER_PATH = './learning_maps/' + FOLDER\n",
                "\n",
                "    if not os.path.exists(FOLDER_PATH):\n",
                "        os.makedirs(FOLDER_PATH)\n",
                "\n",
                "    for LEARNING_MAP_NAME, LEARNING_MAP in COUPLES:\n",
                "        print(f'{LEARNING_MAP_NAME = }, {LEARNING_MAP = }')\n",
                "\n",
                "        sessions_json = get_sessions(LEARNING_MAP)\n",
                "\n",
                "        sessions = []\n",
                "\n",
                "        for session in sessions_json['sectionList'][0]['items']:\n",
                "            sessions.append(Session(session))\n",
                "\n",
                "        style.hour_height = 500\n",
                "        style.day_width = 1500\n",
                "        style.event_notes_color = '#0D274D'\n",
                "        style.title_font = style.image_font(250)\n",
                "        style.hour_number_font = style.image_font(50)\n",
                "        style.day_of_week_font = style.image_font(150)\n",
                "        style.event_title_font = style.image_font(80)\n",
                "        style.event_notes_font = style.image_font(60)\n",
                "\n",
                "\n",
                "        config = data.CalendarConfig(\n",
                "            lang='en',\n",
                "            title=LEARNING_MAP_NAME,\n",
                "            dates='2023-02-06 - 2023-02-10',\n",
                "            show_date=True,\n",
                "            mode='working_hours',\n",
                "            title_vertical_align='top',\n",
                "        )\n",
                "\n",
                "        events = []\n",
                "\n",
                "        for session in sessions:\n",
                "\n",
                "            if session.type != 'Walk-in Lab':\n",
                "                match session.level:\n",
                "                        case 'Introductory': \n",
                "                            color = EventStyle(event_border=(116, 191, 75, 240), event_fill=(116, 191, 75, 180))\n",
                "                        case 'Intermediate': \n",
                "                            color = EventStyle(event_border=(251, 171, 44, 240), event_fill=(251, 171, 44, 180))\n",
                "                        case 'Advanced': \n",
                "                            color = EventStyle(event_border=(227, 36, 27, 240), event_fill=(227, 36, 27, 180))\n",
                "                        case 'General': \n",
                "                            color = EventStyle(event_border=(0, 188, 235, 240), event_fill=(0, 188, 235, 180))\n",
                "                        \n",
                "                events.append(Event(day=session.start.strftime('%Y-%m-%d'), \n",
                "                                    start=session.start.strftime('%H:%M'), \n",
                "                                    end=session.end.strftime('%H:%M'), \n",
                "                                    title=session.id,\n",
                "                                    notes=session.name,\n",
                "                                    style=color))\n",
                "\n",
                "        calendar = Calendar.build(config)\n",
                "        calendar.add_events(events)\n",
                "        calendar.save(FOLDER_PATH + '/' + LEARNING_MAP_NAME + \".png\")"
            ]
        }
    ],
    "metadata": {
        "kernelspec": {
            "display_name": "Python 3.10.4 ('venv': venv)",
            "language": "python",
            "name": "python3"
        },
        "language_info": {
            "codemirror_mode": {
                "name": "ipython",
                "version": 3
            },
            "file_extension": ".py",
            "mimetype": "text/x-python",
            "name": "python",
            "nbconvert_exporter": "python",
            "pygments_lexer": "ipython3",
            "version": "3.10.4"
        },
        "orig_nbformat": 4,
        "vscode": {
            "interpreter": {
                "hash": "0e78ec2475606aad55be8b2b713e3747064a8b57ecd7bfd05bf2efc2b09f0c25"
            }
        }
    },
    "nbformat": 4,
    "nbformat_minor": 2
}
