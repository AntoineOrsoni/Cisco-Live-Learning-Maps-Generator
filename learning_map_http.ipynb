{
    "cells": [
        {
            "cell_type": "code",
            "execution_count": 1,
            "metadata": {},
            "outputs": [],
            "source": [
                "from datetime import datetime, timedelta\n",
                "from calendar_view.core import data\n",
                "from calendar_view.config import style\n",
                "from calendar_view.core.config import CalendarConfig\n",
                "from calendar_view.calendar import Calendar\n",
                "from calendar_view.core.event import Event\n",
                "from calendar_view.core.event import EventStyles\n",
                "from calendar_view.core.event import EventStyle\n",
                "import requests"
            ]
        },
        {
            "cell_type": "code",
            "execution_count": 2,
            "metadata": {},
            "outputs": [],
            "source": [
                "learning_maps = (\n",
                "    ('SP Networking Routing Infrastructure', '1614365762802003wkIr'),\n",
                "    ('Cisco Meraki', '1614365278184001wl7w'),\n",
                "    ('IPv6', '1669112925198001TUYV'),\n",
                "    ('ACI', '1614365003478001MP4u'),\n",
                "    ('NXOS', '1614365003478002MIBb'),\n",
                "    ('Compute', '1614365003478003MKRH'),\n",
                "    ('SD-Access', '1614365278184010wchb'),\n",
                "    ('SD-WAN', '1614365278184011wdNo'),\n",
                "    ('Optical Infrastructure and Optics', '1614365762802006w2A9'),\n",
                "    ('SP Automation and Orchestration', '1614365762802005wrv8'),\n",
                "    ('Sustainability', '1654445964194002bNUB'),\n",
                "    ('Collaboration Applications and Integrations', '1614364767910002wlvj')\n",
                ")"
            ]
        },
        {
            "cell_type": "code",
            "execution_count": 3,
            "metadata": {},
            "outputs": [],
            "source": [
                "def get_sessions(learning_map: str):\n",
                "    '''\n",
                "    Take a learning map and returns the associated sessions in a json object.\n",
                "    '''\n",
                "\n",
                "    url = \"https://events.rainfocus.com/api/search\"\n",
                "\n",
                "    payload =   {'search.learningmap': learning_map,\n",
                "                'type': 'session'}\n",
                "\n",
                "    headers = {\n",
                "    'rfapiprofileid': '0wnUkT1BBZK3JR2t3yc5huPwNQCS8C3n',\n",
                "    'referer': 'https://www.ciscolive.com/'\n",
                "    }\n",
                "\n",
                "    response = requests.request(\"POST\", url, headers=headers, data=payload)\n",
                "\n",
                "    return response.json()"
            ]
        },
        {
            "cell_type": "code",
            "execution_count": 4,
            "metadata": {},
            "outputs": [],
            "source": [
                "class Session():\n",
                "\n",
                "    def __init__(self, session_json):\n",
                "        self.type = session_json['type']\n",
                "        try:\n",
                "            self.start = datetime.strptime(session_json['times'][0]['utcStartTime'], '%Y/%m/%d %H:%M:%S') + timedelta(hours=1)\n",
                "            self.end = datetime.strptime(session_json['times'][0]['utcEndTime'], '%Y/%m/%d %H:%M:%S') + timedelta(hours=1)\n",
                "        except KeyError:\n",
                "            self.start = 'Null'\n",
                "            self.end = 'Null'\n",
                "        self.name = session_json['title']\n",
                "        self.id = session_json['code']\n",
                "        match int(self.id.split('-')[1][0]):\n",
                "            case 1: self.level = 'Introductory'\n",
                "            case 2: self.level = 'Intermediate'\n",
                "            case 3: self.level = 'Advanced'\n",
                "            case 4: self.level = 'General'\n",
                "        \n",
                "    def __str__(self):\n",
                "        return self.name"
            ]
        },
        {
            "cell_type": "code",
            "execution_count": 5,
            "metadata": {},
            "outputs": [
                {
                    "name": "stdout",
                    "output_type": "stream",
                    "text": [
                        "LEARNING_MAP_NAME = 'SP Networking Routing Infrastructure', LEARNING_MAP = '1614365762802003wkIr'\n",
                        "LEARNING_MAP_NAME = 'Cisco Meraki', LEARNING_MAP = '1614365278184001wl7w'\n",
                        "LEARNING_MAP_NAME = 'IPv6', LEARNING_MAP = '1669112925198001TUYV'\n",
                        "LEARNING_MAP_NAME = 'ACI', LEARNING_MAP = '1614365003478001MP4u'\n",
                        "LEARNING_MAP_NAME = 'NXOS', LEARNING_MAP = '1614365003478002MIBb'\n",
                        "LEARNING_MAP_NAME = 'Compute', LEARNING_MAP = '1614365003478003MKRH'\n",
                        "LEARNING_MAP_NAME = 'SD-Access', LEARNING_MAP = '1614365278184010wchb'\n",
                        "LEARNING_MAP_NAME = 'SD-WAN', LEARNING_MAP = '1614365278184011wdNo'\n",
                        "LEARNING_MAP_NAME = 'Optical Infrastructure and Optics', LEARNING_MAP = '1614365762802006w2A9'\n",
                        "LEARNING_MAP_NAME = 'SP Automation and Orchestration', LEARNING_MAP = '1614365762802005wrv8'\n",
                        "LEARNING_MAP_NAME = 'Sustainability', LEARNING_MAP = '1654445964194002bNUB'\n",
                        "LEARNING_MAP_NAME = 'Collaboration Applications and Integrations', LEARNING_MAP = '1614364767910002wlvj'\n"
                    ]
                }
            ],
            "source": [
                "for LEARNING_MAP_NAME, LEARNING_MAP in learning_maps:\n",
                "    print(f'{LEARNING_MAP_NAME = }, {LEARNING_MAP = }')\n",
                "\n",
                "    sessions_json = get_sessions(LEARNING_MAP)\n",
                "\n",
                "    sessions = []\n",
                "\n",
                "    for session in sessions_json['sectionList'][0]['items']:\n",
                "        sessions.append(Session(session))\n",
                "\n",
                "    style.hour_height = 500\n",
                "    style.day_width = 1500\n",
                "    style.event_notes_color = '#0D274D'\n",
                "    style.title_font = style.image_font(250)\n",
                "    style.hour_number_font = style.image_font(50)\n",
                "    style.day_of_week_font = style.image_font(150)\n",
                "    style.event_title_font = style.image_font(80)\n",
                "    style.event_notes_font = style.image_font(60)\n",
                "\n",
                "\n",
                "    config = data.CalendarConfig(\n",
                "        lang='en',\n",
                "        title=LEARNING_MAP_NAME,\n",
                "        dates='2023-02-06 - 2023-02-10',\n",
                "        show_date=True,\n",
                "        mode='working_hours',\n",
                "        title_vertical_align='top',\n",
                "    )\n",
                "\n",
                "    events = []\n",
                "\n",
                "    for session in sessions:\n",
                "\n",
                "        if session.type != 'Walk-in Lab':\n",
                "            match session.level:\n",
                "                    case 'Introductory': \n",
                "                        color = EventStyle(event_border=(116, 191, 75, 240), event_fill=(116, 191, 75, 180))\n",
                "                    case 'Intermediate': \n",
                "                        color = EventStyle(event_border=(251, 171, 44, 240), event_fill=(251, 171, 44, 180))\n",
                "                    case 'Advanced': \n",
                "                        color = EventStyle(event_border=(227, 36, 27, 240), event_fill=(227, 36, 27, 180))\n",
                "                    case 'General': \n",
                "                        color = EventStyle(event_border=(0, 188, 235, 240), event_fill=(0, 188, 235, 180))\n",
                "                    \n",
                "            events.append(Event(day=session.start.strftime('%Y-%m-%d'), \n",
                "                                start=session.start.strftime('%H:%M'), \n",
                "                                end=session.end.strftime('%H:%M'), \n",
                "                                title=session.id,\n",
                "                                notes=session.name,\n",
                "                                style=color))\n",
                "\n",
                "    calendar = Calendar.build(config)\n",
                "    calendar.add_events(events)\n",
                "    calendar.save('./learning_maps/' + LEARNING_MAP_NAME + \".png\")"
            ]
        }
    ],
    "metadata": {
        "kernelspec": {
            "display_name": "Python 3.10.4 ('venv': venv)",
            "language": "python",
            "name": "python3"
        },
        "language_info": {
            "codemirror_mode": {
                "name": "ipython",
                "version": 3
            },
            "file_extension": ".py",
            "mimetype": "text/x-python",
            "name": "python",
            "nbconvert_exporter": "python",
            "pygments_lexer": "ipython3",
            "version": "3.10.4"
        },
        "orig_nbformat": 4,
        "vscode": {
            "interpreter": {
                "hash": "0e78ec2475606aad55be8b2b713e3747064a8b57ecd7bfd05bf2efc2b09f0c25"
            }
        }
    },
    "nbformat": 4,
    "nbformat_minor": 2
}
