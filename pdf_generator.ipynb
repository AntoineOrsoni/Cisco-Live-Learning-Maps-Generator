{
 "cells": [
  {
   "cell_type": "code",
   "execution_count": 1,
   "metadata": {},
   "outputs": [],
   "source": [
    "from PIL import Image\n",
    "import os"
   ]
  },
  {
   "cell_type": "code",
   "execution_count": 2,
   "metadata": {},
   "outputs": [],
   "source": [
    "folder_path = './learning_maps/'\n",
    "\n",
    "list_folders = [d for d in os.listdir(folder_path) if os.path.isdir(folder_path + d)]\n",
    "list_folders.remove('_PDF')\n",
    "list_folders.remove('z_History')\n",
    "\n"
   ]
  },
  {
   "cell_type": "code",
   "execution_count": 4,
   "metadata": {},
   "outputs": [],
   "source": [
    "for folder in list_folders:\n",
    "\n",
    "    image_list = []\n",
    "    \n",
    "    sub_folder_path = folder_path + folder + '/'\n",
    "    for image_file in os.listdir(sub_folder_path):\n",
    "        image = Image.open(os.path.join(sub_folder_path, image_file))\n",
    "        image_list.append(image.convert('RGB'))\n",
    "\n",
    "    image_list[0].save('./learning_maps/_PDF/' + folder + '.pdf', save_all=True, append_images=image_list[1:])"
   ]
  }
 ],
 "metadata": {
  "kernelspec": {
   "display_name": "Python 3.10.4 ('venv': venv)",
   "language": "python",
   "name": "python3"
  },
  "language_info": {
   "codemirror_mode": {
    "name": "ipython",
    "version": 3
   },
   "file_extension": ".py",
   "mimetype": "text/x-python",
   "name": "python",
   "nbconvert_exporter": "python",
   "pygments_lexer": "ipython3",
   "version": "3.10.4"
  },
  "orig_nbformat": 4,
  "vscode": {
   "interpreter": {
    "hash": "0e78ec2475606aad55be8b2b713e3747064a8b57ecd7bfd05bf2efc2b09f0c25"
   }
  }
 },
 "nbformat": 4,
 "nbformat_minor": 2
}
